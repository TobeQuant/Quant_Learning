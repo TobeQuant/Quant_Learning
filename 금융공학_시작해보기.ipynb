{
  "nbformat": 4,
  "nbformat_minor": 0,
  "metadata": {
    "colab": {
      "private_outputs": true,
      "provenance": [],
      "toc_visible": true
    },
    "kernelspec": {
      "name": "python3",
      "display_name": "Python 3"
    },
    "language_info": {
      "name": "python"
    },
    "gpuClass": "standard",
    "accelerator": "GPU"
  },
  "cells": [
    {
      "cell_type": "markdown",
      "source": [
        "#**금융 머신러닝 처음부터 공부하기**\n"
      ],
      "metadata": {
        "id": "bDVTFy2ooGPe"
      }
    },
    {
      "cell_type": "markdown",
      "source": [
        "많은 인터넷 자료를 보면서 도움을 받았습니다."
      ],
      "metadata": {
        "id": "RCNw2hxtK5O-"
      }
    },
    {
      "cell_type": "markdown",
      "source": [
        "## 1) CSV파일 다운받기"
      ],
      "metadata": {
        "id": "757jOFPStZ0W"
      }
    },
    {
      "cell_type": "markdown",
      "source": [
        "먼저 주가데이터 등 여러 데이터를 담고있는 CSV를 받도록 하자. CSV는 python의 library를 통해 다운받는 방식과 직접 거래소 홈페이지에 들어가서 다운받는 방식이 있다."
      ],
      "metadata": {
        "id": "sjsOb6_TtoPx"
      }
    },
    {
      "cell_type": "markdown",
      "source": [
        "앞서서 나는 pykrx나 Yahoo Finance를 이용할 것이다.\n",
        "한국 시장은 pykrx(정보가 정확하지 않다면 KRX이용), 미국과 다른 해외 시장은 Yahoo Finance를 이용할 것이다."
      ],
      "metadata": {
        "id": "RB8ufsfpzCw0"
      }
    },
    {
      "cell_type": "markdown",
      "source": [
        "###1-1) 데이터 다운 받기(야후 파이낸스)"
      ],
      "metadata": {
        "id": "SrcaQAfBoj9W"
      }
    },
    {
      "cell_type": "markdown",
      "source": [
        "먼저 증권 데이터와 뉴스를 제공하는 yahoo finance에서 제공하는 library를 다운받는다."
      ],
      "metadata": {
        "id": "4ovCVk15pId1"
      }
    },
    {
      "cell_type": "code",
      "source": [
        "!pip install yfinance"
      ],
      "metadata": {
        "id": "sberL9ABpG3c"
      },
      "execution_count": null,
      "outputs": []
    },
    {
      "cell_type": "markdown",
      "source": [
        "이후 원하는 주식을 다운받는다. 이때 종목코드와 날짜는 원하는대로 선택할 수 있다. 여기서는 삼성전자의 데이터를 다운받도록 하자. 이때 코스피는 KS, 코스닥은 KQ를 붙인다.\n",
        "\n",
        "이때 start를 통해 지금까지 데이터를 받아오는 방식과 \n",
        "\n",
        "```\n",
        "# yf.download('005930.KS', '2000-09-09', 2023-03-03')\n",
        "```\n",
        "위와 같이 받아오는 방식이 있다."
      ],
      "metadata": {
        "id": "moCe0S2UpZID"
      }
    },
    {
      "cell_type": "code",
      "source": [
        "import yfinance as yf\n",
        "df = yf.download('005930.KS', start = '2023-01-01')\n",
        "df.to_excel(\"삼전.xlsx\")\n",
        "df.to_csv(\"삼전.csv\")"
      ],
      "metadata": {
        "id": "2Qpuslp9pwg1"
      },
      "execution_count": null,
      "outputs": []
    },
    {
      "cell_type": "markdown",
      "source": [
        "손쉽게 데이터를 다운받을 수 있다. 이 방법은 쉽고 전세계 모든 우량 주식 데이터를 쉽게 받을 수 있지만, 필자는 코스닥 시장의 주식들도 관심이 있기에 다른 Library에 대해 알아보도록 하자."
      ],
      "metadata": {
        "id": "fP5C1hH1sxJQ"
      }
    },
    {
      "cell_type": "code",
      "source": [
        "df"
      ],
      "metadata": {
        "id": "3HQPpiwhrk0s"
      },
      "execution_count": null,
      "outputs": []
    },
    {
      "cell_type": "markdown",
      "source": [],
      "metadata": {
        "id": "1lw7CKQWoFuG"
      }
    },
    {
      "cell_type": "markdown",
      "source": [
        "### 1-2) 데이터 다운 받기(pykrx)"
      ],
      "metadata": {
        "id": "FUq3YwFptAA2"
      }
    },
    {
      "cell_type": "markdown",
      "source": [
        "Yahoo Finance와 마찬가지로 library를 설치한다."
      ],
      "metadata": {
        "id": "TX7AULdFt5Wz"
      }
    },
    {
      "cell_type": "code",
      "source": [
        "!pip install pykrx"
      ],
      "metadata": {
        "id": "gzC0TH2qt3uo"
      },
      "execution_count": null,
      "outputs": []
    },
    {
      "cell_type": "markdown",
      "source": [
        "설치가 완료되면 아래의 코드를 입력하여 정보를 다운받자."
      ],
      "metadata": {
        "id": "lQf6hQrdutlz"
      }
    },
    {
      "cell_type": "code",
      "source": [
        "from pykrx import stock\n",
        "\n",
        "df = stock.get_market_ohlcv(\"20230310\", \"20230322\", \"005930\")\n",
        "df.to_excel(\"삼성전자1.xlsx\")\n",
        "df.to_csv(\"삼성전자1.csv\")\n",
        "df"
      ],
      "metadata": {
        "id": "tWGkH5u2utWe"
      },
      "execution_count": null,
      "outputs": []
    },
    {
      "cell_type": "markdown",
      "source": [
        "pykrx 라이브러리는 한국사람들이 만든 라이브러리이다.\n",
        "아래의 웹사이트에서 소개가 되고있다.\n",
        "\n",
        "[KRX 주식 정보 스크래핑](https://github.com/sharebook-kr/pykrx)"
      ],
      "metadata": {
        "id": "0OaT7g5_vMt1"
      }
    },
    {
      "cell_type": "markdown",
      "source": [
        "### 1-3) 데이터 다운 받기(pandas-datareader)"
      ],
      "metadata": {
        "id": "HTCSDVZVviAW"
      }
    },
    {
      "cell_type": "markdown",
      "source": [
        "이 방법은 오류가 너무 많이나기 때문에 포기했다."
      ],
      "metadata": {
        "id": "tZ8HH_VRvoPp"
      }
    },
    {
      "cell_type": "markdown",
      "source": [
        "### 1-4) 데이터 다운받기(FinanceDataReader)"
      ],
      "metadata": {
        "id": "UqdaKzP9xYjl"
      }
    },
    {
      "cell_type": "markdown",
      "source": [
        "라이브러리를 쓰기위해 아래 코드를 실행하자."
      ],
      "metadata": {
        "id": "qm7uyCVnxqDo"
      }
    },
    {
      "cell_type": "code",
      "source": [
        "!pip install finance-datareader"
      ],
      "metadata": {
        "id": "XVyF1oxfxoi9"
      },
      "execution_count": null,
      "outputs": []
    },
    {
      "cell_type": "markdown",
      "source": [
        "설치가 완료되면 정보를 받아오자."
      ],
      "metadata": {
        "id": "A5qyag_Ox6lR"
      }
    },
    {
      "cell_type": "code",
      "source": [
        "import FinanceDataReader as fdr\n",
        "df = fdr.DataReader('005930', '2023-03-10', '2023-03-23')\n",
        "df.to_excel(\"삼전3.xlsx\")\n",
        "df.to_csv(\"삼전3.csv\")\n",
        "df"
      ],
      "metadata": {
        "id": "HnA-4eN2x-Ny"
      },
      "execution_count": null,
      "outputs": []
    },
    {
      "cell_type": "markdown",
      "source": [
        "라이브러리를 소개하는 웹사이트는 다음과 같다.\n",
        "\n",
        "[FinanceDataReader](FinanceDataReader)"
      ],
      "metadata": {
        "id": "TEarpipnyOZV"
      }
    },
    {
      "cell_type": "markdown",
      "source": [
        "### 1-5) 증권거래소 홈페이지 이용"
      ],
      "metadata": {
        "id": "VxwRujlIynIo"
      }
    },
    {
      "cell_type": "markdown",
      "source": [
        "증권 거래소 홈페이지를 이용해서 다운할 수도 있다.\n",
        "\n",
        "[KRX 정보데이터시스템](http://data.krx.co.kr/contents/MDC/MAIN/main/index.cmd)"
      ],
      "metadata": {
        "id": "E6521l2nytzt"
      }
    },
    {
      "cell_type": "markdown",
      "source": [
        "## 2) CSV를 이용해 주가시각화하기"
      ],
      "metadata": {
        "id": "J2mW4yG95zq0"
      }
    },
    {
      "cell_type": "markdown",
      "source": [
        "### 2-1) 주가데이터에 이동평균 추가하여 시각화하기"
      ],
      "metadata": {
        "id": "py6egCoe6EcJ"
      }
    },
    {
      "cell_type": "markdown",
      "source": [
        "Pandas를 이용해 주가데이터에 이동평균을 추가해보자.\n",
        "데이터를 받는 방식은 1의 방식중 이 노트에서는 pykrx를 사용한다."
      ],
      "metadata": {
        "id": "IQbzjZYv6QBv"
      }
    },
    {
      "cell_type": "markdown",
      "source": [
        "먼저 CSV 파일을 가져온다."
      ],
      "metadata": {
        "id": "RnHqoAFn77qa"
      }
    },
    {
      "cell_type": "code",
      "source": [
        "!pip install pykrx"
      ],
      "metadata": {
        "id": "99jz2ir28B0h"
      },
      "execution_count": null,
      "outputs": []
    },
    {
      "cell_type": "code",
      "source": [
        "from pykrx import stock\n",
        "\n",
        "df = stock.get_market_ohlcv(\"20220322\", \"20230322\", \"005930\")\n",
        "df.to_excel(\"005930.xlsx\")\n",
        "df.to_csv(\"005930.csv\")\n",
        "df"
      ],
      "metadata": {
        "id": "sv1dspgo6Vww"
      },
      "execution_count": null,
      "outputs": []
    },
    {
      "cell_type": "markdown",
      "source": [
        "pandas의 rolling 함수와 mean함수를 이용해 이동기술 통계량(이동평균선)을 구해보자."
      ],
      "metadata": {
        "id": "qI63mkZz8KT0"
      }
    },
    {
      "cell_type": "code",
      "source": [
        "import pykrx\n",
        "from pykrx import stock\n",
        "\n",
        "df = stock.get_market_ohlcv_by_date(\"20220322\",\"20230322\",\"005930\")\n",
        "\n",
        "ma5=df['종가'].rolling(5).mean()\n",
        "ma10=df['종가'].rolling(10).mean()\n",
        "ma20=df['종가'].rolling(20).mean()\n",
        "ma60=df['종가'].rolling(60).mean()\n",
        "\n",
        "df.to_csv(\"005930.csv\")\n",
        "df.to_excel(\"005930.xlsx\")\n",
        "df['5일_이동평균']=ma5\n",
        "df['10일_이동평균']=ma10\n",
        "df['20일_이동평균']=ma20\n",
        "df['60일_이동평균']=ma60\n",
        "df"
      ],
      "metadata": {
        "id": "gUlayo8C8RZY"
      },
      "execution_count": null,
      "outputs": []
    },
    {
      "cell_type": "markdown",
      "source": [
        "주식 그래프를 그리기위해 Matplotlib를 이용한다."
      ],
      "metadata": {
        "id": "_IXSQZ74_mID"
      }
    },
    {
      "cell_type": "code",
      "source": [
        "import pandas as pd\n",
        "import matplotlib.pyplot as plt\n",
        "\n",
        "df = pd.read_csv(\"005930.csv\")\n",
        "plt.plot(df[\"날짜\"],df[\"종가\"])"
      ],
      "metadata": {
        "id": "rmOZl1PZ_rcN"
      },
      "execution_count": null,
      "outputs": []
    },
    {
      "cell_type": "markdown",
      "source": [
        "먼저 한글을 다운받고 코드를 붙인다."
      ],
      "metadata": {
        "id": "RHZz5gaIAjIT"
      }
    },
    {
      "cell_type": "code",
      "source": [
        "!sudo apt-get install -y fonts-nanum\n",
        "!sudo fc-cache -fv\n",
        "!rm ~/.cache/matplotlib -rf"
      ],
      "metadata": {
        "id": "BCK8R1E_En6p"
      },
      "execution_count": null,
      "outputs": []
    },
    {
      "cell_type": "code",
      "source": [
        "import pandas as pd\n",
        "import matplotlib\n",
        "import matplotlib.pyplot as plt\n",
        "import matplotlib.font_manager as fm\n",
        "import pykrx\n",
        "from pykrx import stock\n",
        "\n",
        "pd.set_option('display.float_format','{:,.0f}'.format)\n",
        "df = stock.get_market_ohlcv_by_date(\"20220322\",\"20230322\",\"005930\")\n",
        "df.to_excel(\"005930.xlsx\")\n",
        "df.to_csv(\"005930.csv\")\n",
        "\n",
        "#이평선 5, 10, 20, 60일 추가\n",
        "\n",
        "ma5=df['종가'].rolling(5).mean()\n",
        "ma10=df['종가'].rolling(10).mean()\n",
        "ma20=df['종가'].rolling(20).mean()\n",
        "ma60=df['종가'].rolling(60).mean()\n",
        "\n",
        "df.to_csv(\"005930.csv\")\n",
        "df.to_excel(\"005930.xlsx\")\n",
        "df['5일_이동평균']=ma5\n",
        "df['10일_이동평균']=ma10\n",
        "df['20일_이동평균']=ma20\n",
        "df['60일_이동평균']=ma60\n",
        "\n",
        "# 나눔글꼴 Regular으로 폰트 지정\n",
        "font_path = '/usr/share/fonts/truetype/nanum/NanumGothic.ttf'\n",
        "font_prop = fm.FontProperties(fname=font_path, size=20)\n",
        "# 폰트 설정\n",
        "plt.rc('font', family='NanumGothic')\n",
        "matplotlib.rcParams['axes.unicode_minus'] = False # 마이너스 기호(-)가 깨지는 현상 방지\n",
        "\n",
        "# 주가 그래프 그리기\n",
        "df = pd.read_csv(\"005930.csv\")\n",
        "plt.figure(figsize=(20,12)) # 그래프 사이즈\n",
        "plt.plot(df[\"날짜\"],df[\"종가\"], color=\"Navy\",linewidth=3) #데이터\n",
        "plt.plot(df[\"날짜\"],ma5, label=\"5일\")\n",
        "plt.plot(df[\"날짜\"], ma10, label=\"10일\")\n",
        "plt.plot(df[\"날짜\"], ma20, label=\"20일\")\n",
        "plt.plot(df[\"날짜\"], ma60, label=\"60일\")\n",
        "plt.title(\"삼성전자 주가\", color=\"black\",fontsize=25,fontweight=\"bold\") #제목\n",
        "plt.xticks([1,30,60,90,120,150,180,210,240],rotation = 45 ) #아래에 날짜 표시\n",
        "plt.xlabel(\"기간\", color= \"green\" , loc = \"right\")\n",
        "plt.ylabel(\"단위 : 원\", color = \"red\", loc = \"top\")\n",
        "plt.legend(loc = \"upper right\", labelcolor = 'linecolor')\n",
        "plt.grid(axis=\"y\")\n",
        "plt.savefig(\"삼성전자.png\" , dpi = 100)\n",
        "\n",
        "\n",
        "# 거래량 그래프 그리기\n",
        "plt.figure(figsize=(15,5))\n",
        "plt.bar(df[\"날짜\"],df[\"거래량\"])\n",
        "plt.title(\"삼성전자 거래량\", color = \"blue\", fontsize = 25, fontweight = \"bold\")\n",
        "plt.xticks([1,30,60,90,120,150,180,210,240],rotation = 45 )\n",
        "plt.xlabel(\"기간\", color= \"green\" , loc = \"right\")\n",
        "plt.ylabel(\"단위 : 10,000,000 주\", color = \"red\", loc = \"top\")\n",
        "plt.grid(axis='y')\n",
        "plt.savefig(\"005930_volume.png\")"
      ],
      "metadata": {
        "id": "9-q2M9M0Al7U"
      },
      "execution_count": null,
      "outputs": []
    },
    {
      "cell_type": "markdown",
      "source": [
        "월평균 주가도 같이 구해보자."
      ],
      "metadata": {
        "id": "ebEoEAw7JPLX"
      }
    },
    {
      "cell_type": "code",
      "source": [
        "import pandas as pd\n",
        "import matplotlib\n",
        "import matplotlib.pyplot as plt\n",
        "import matplotlib.font_manager as fm\n",
        "import pykrx\n",
        "from pykrx import stock\n",
        "\n",
        "# 주식 데이터 저장\n",
        "pd.set_option('display.float_format','{:,.2f}'.format) #소수점 둘째자리 까지 제거\n",
        "df = stock.get_market_ohlcv_by_date(\"20220322\",\"20230322\",\"005930\")\n",
        "df.to_excel(\"005930.xlsx\")\n",
        "df.to_csv(\"005930.csv\")\n",
        "\n",
        "#이평선 5, 10, 20, 60일 추가\n",
        "\n",
        "ma5=df['종가'].rolling(5).mean()\n",
        "ma10=df['종가'].rolling(10).mean()\n",
        "ma20=df['종가'].rolling(20).mean()\n",
        "ma60=df['종가'].rolling(60).mean()\n",
        "\n",
        "df.to_csv(\"005930.csv\")\n",
        "df.to_excel(\"005930.xlsx\")\n",
        "df['5일_이동평균']=ma5\n",
        "df['10일_이동평균']=ma10\n",
        "df['20일_이동평균']=ma20\n",
        "df['60일_이동평균']=ma60\n",
        "\n",
        "# 나눔글꼴 Regular으로 폰트 지정\n",
        "font_path = '/usr/share/fonts/truetype/nanum/NanumGothic.ttf'\n",
        "font_prop = fm.FontProperties(fname=font_path, size=20)\n",
        "# 폰트 설정\n",
        "plt.rc('font', family='NanumGothic')\n",
        "matplotlib.rcParams['axes.unicode_minus'] = False # 마이너스 기호(-)가 깨지는 현상 방지\n",
        "\n",
        "# 주가 그래프 그리기\n",
        "df = pd.read_csv(\"005930.csv\")\n",
        "plt.figure(figsize=(20,12)) # 그래프 사이즈\n",
        "plt.plot(df[\"날짜\"],df[\"종가\"], color=\"Navy\",linewidth=3) #데이터\n",
        "plt.plot(df[\"날짜\"],ma5, label=\"5일\")\n",
        "plt.plot(df[\"날짜\"], ma10, label=\"10일\")\n",
        "plt.plot(df[\"날짜\"], ma20, label=\"20일\")\n",
        "plt.plot(df[\"날짜\"], ma60, label=\"60일\")\n",
        "plt.title(\"삼성전자 주가\", color=\"black\",fontsize=25,fontweight=\"bold\") #제목\n",
        "plt.xticks([1,30,60,90,120,150,180,210,240],rotation = 45 ) #아래에 날짜 표시\n",
        "plt.xlabel(\"기간\", color= \"green\" , loc = \"right\")\n",
        "plt.ylabel(\"단위 : 원\", color = \"red\", loc = \"top\")\n",
        "plt.legend(loc = \"upper right\", labelcolor = 'linecolor')\n",
        "plt.grid(axis=\"y\")\n",
        "plt.savefig(\"삼성전자.png\" , dpi = 100)\n",
        "\n",
        "\n",
        "# 거래량 그래프 그리기\n",
        "plt.figure(figsize=(15,5))\n",
        "plt.bar(df[\"날짜\"],df[\"거래량\"])\n",
        "plt.title(\"삼성전자 거래량\", color = \"blue\", fontsize = 25, fontweight = \"bold\")\n",
        "plt.xticks([1,30,60,90,120,150,180,210,240],rotation = 45 )\n",
        "plt.xlabel(\"기간\", color= \"green\" , loc = \"right\")\n",
        "plt.ylabel(\"단위 : 10,000,000 주\", color = \"red\", loc = \"top\")\n",
        "plt.grid(axis='y')\n",
        "plt.savefig(\"005930_volume.png\")\n",
        "\n",
        "# 월평균 주가 그래프\n",
        "df_m = pd.read_csv(\"005930.csv\")\n",
        "\n",
        "plt.figure(figsize=(15,5))\n",
        "plt.bar(df_m['날짜'],df_m['종가'], color =\"orange\", alpha = 0.7, width = 0.5)\n",
        "plt.title(\"삼성전자 월평균 주가\", color = \"blue\", fontsize = 25, fontweight = \"bold\")\n",
        "plt.xticks(rotation = 45 )\n",
        "plt.grid(axis='y')\n",
        "plt.show()"
      ],
      "metadata": {
        "id": "v69bvydIJSPc"
      },
      "execution_count": null,
      "outputs": []
    },
    {
      "cell_type": "markdown",
      "source": [
        "### 2-2) 여러 종목 주가 시각화하기"
      ],
      "metadata": {
        "id": "bgUnjvWiKsK4"
      }
    },
    {
      "cell_type": "markdown",
      "source": [
        "앞에서 삼성전자의 그래프는 그려봤으니, 이제 여러 종목의 그래프를 그려보자."
      ],
      "metadata": {
        "id": "XZ5aYqPoK0D8"
      }
    },
    {
      "cell_type": "code",
      "source": [
        "import pandas as pd\n",
        "from pykrx import stock\n",
        "\n",
        "pd.set_option('display.float_format','{:,.2f}'.format) #소수점 둘째자리 까지 제거\n",
        "stocks = { \"카나리아바이오\" : \"016790\", \"세종메디칼\":\"258830\",\"헬릭스미스\":\"084990\" }\n",
        "\n",
        "for i in stocks:\n",
        "    code = stocks[i]\n",
        "    df = stock.get_market_ohlcv_by_date(\"20220322\",\"20230322\",code)\n",
        "    df.to_csv(f\"{i}.csv\")\n",
        "    df = df.dropna() #NaN 값 제거\n",
        "df"
      ],
      "metadata": {
        "id": "hxPhB1O4LFH5"
      },
      "execution_count": null,
      "outputs": []
    },
    {
      "cell_type": "markdown",
      "source": [
        "2-1에서 구한 코드와 연결짓자."
      ],
      "metadata": {
        "id": "ZMEe9gLrMX2Z"
      }
    },
    {
      "cell_type": "code",
      "source": [
        "import pandas as pd\n",
        "import matplotlib\n",
        "import matplotlib.pyplot as plt\n",
        "import matplotlib.font_manager as fm\n",
        "from pykrx import stock\n",
        "\n",
        "pd.set_option('display.float_format','{:,.2f}'.format) #소수점 둘째자리 까지 제거\n",
        "\n",
        "# 나눔글꼴 Regular으로 폰트 지정\n",
        "font_path = '/usr/share/fonts/truetype/nanum/NanumGothic.ttf'\n",
        "font_prop = fm.FontProperties(fname=font_path, size=20)\n",
        "# 폰트 설정\n",
        "plt.rc('font', family='NanumGothic')\n",
        "matplotlib.rcParams['axes.unicode_minus'] = False # 마이너스 기호(-)가 깨지는 현상 방지\n",
        "\n",
        "stocks = { \"카나리아바이오\" : \"016790\", \"세종메디칼\":\"258830\",\"헬릭스미스\":\"084990\" }\n",
        "# 주식 for문으로 호출\n",
        "for i in stocks:\n",
        "    code = stocks[i]\n",
        "    df = stock.get_market_ohlcv_by_date(\"20220322\",\"20230322\",code)#날짜 기간 설정\n",
        "    df.to_csv(f\"{i}.csv\")# 주식 데이터 저장\n",
        "    df = df.dropna() #NaN 값 제거\n",
        "    #이평선 5, 10, 20, 60일 추가\n",
        "\n",
        "    ma5=df['종가'].rolling(5).mean().round(0)\n",
        "    ma10=df['종가'].rolling(10).mean().round(0)\n",
        "    ma20=df['종가'].rolling(20).mean().round(0)\n",
        "    ma60=df['종가'].rolling(60).mean().round(0)\n",
        "\n",
        "    df['5일_이동평균']=ma5\n",
        "    df['10일_이동평균']=ma10\n",
        "    df['20일_이동평균']=ma20\n",
        "    df['60일_이동평균']=ma60\n",
        "    \n",
        "    df.to_csv(f\"{i}_이동평균.csv\") \n",
        "\n",
        "    # 주가 그래프 그리기\n",
        "    df = pd.read_csv(f\"{i}.csv\")\n",
        "    plt.figure(figsize=(15,10)) # 그래프 사이즈\n",
        "    plt.plot(df[\"날짜\"],df[\"종가\"], color=\"Navy\",linewidth=3) #데이터\n",
        "    plt.plot(df[\"날짜\"],ma5, label=\"5일\")\n",
        "    plt.plot(df[\"날짜\"], ma10, label=\"10일\")\n",
        "    plt.plot(df[\"날짜\"], ma20, label=\"20일\") \n",
        "    plt.plot(df[\"날짜\"], ma60, label=\"60일\")\n",
        "    plt.title(f\"{i} 주가\", color=\"black\",fontsize=25,fontweight=\"bold\") #제목\n",
        "    plt.xticks([1,30,60,90,120,150,180,210,240],rotation = 45 ) #아래에 날짜 표시\n",
        "    plt.xlabel(\"기간\", color= \"green\" , loc = \"right\")\n",
        "    plt.ylabel(\"단위 : 원\", color = \"red\", loc = \"top\")\n",
        "    plt.legend(loc = \"upper right\", labelcolor = 'linecolor')\n",
        "    plt.grid(axis=\"y\")\n",
        "    plt.savefig(f\"{i}.png\" , dpi = 100)\n",
        "\n",
        "\n",
        "    # 거래량 그래프 그리기\n",
        "    plt.figure(figsize=(15,5))\n",
        "    plt.bar(df[\"날짜\"],df[\"거래량\"])\n",
        "    plt.title(f\"{i} 거래량\", color = \"blue\", fontsize = 25, fontweight = \"bold\")\n",
        "    plt.xticks([1,30,60,90,120,150,180,210,240],rotation = 45 )\n",
        "    plt.xlabel(\"기간\", color= \"green\" , loc = \"right\")\n",
        "    plt.ylabel(\"단위 : 10,000,000 주\", color = \"red\", loc = \"top\")\n",
        "    plt.grid(axis='y')\n",
        "    plt.savefig(f\"{i}.png\")\n",
        "\n",
        "    # 월평균 주가 그래프\n",
        "    df_m = pd.read_csv(f\"{i}.csv\")\n",
        "\n",
        "    plt.figure(figsize=(15,5))\n",
        "    plt.bar(df_m['날짜'],df_m['종가'], color =\"orange\", alpha = 0.7, width = 0.5)\n",
        "    plt.title(f\"{i} 월평균 주가\", color = \"blue\", fontsize = 25, fontweight = \"bold\")\n",
        "    plt.xticks(rotation = 45 )\n",
        "    plt.grid(axis='y')\n",
        "    plt.show(f\"{i}.png\")"
      ],
      "metadata": {
        "id": "O9kbQi5KSDrT"
      },
      "execution_count": null,
      "outputs": []
    },
    {
      "cell_type": "markdown",
      "source": [
        "이제 주가를 비교해보자."
      ],
      "metadata": {
        "id": "QbYmsrFrZ39T"
      }
    },
    {
      "cell_type": "code",
      "source": [
        "import pandas as pd\n",
        "import matplotlib\n",
        "import matplotlib.pyplot as plt\n",
        "import matplotlib.font_manager as fm\n",
        "from pykrx import stock\n",
        "\n",
        "pd.set_option('display.float_format','{:,.2f}'.format) #소수점 둘째자리 까지 제거\n",
        "\n",
        "# 나눔글꼴 Regular으로 폰트 지정\n",
        "font_path = '/usr/share/fonts/truetype/nanum/NanumGothic.ttf'\n",
        "font_prop = fm.FontProperties(fname=font_path, size=20)\n",
        "# 폰트 설정\n",
        "plt.rc('font', family='NanumGothic')\n",
        "matplotlib.rcParams['axes.unicode_minus'] = False # 마이너스 기호(-)가 깨지는 현상 방지\n",
        "\n",
        "stocks = { \"에코프로비엠\" : \"247540\", \"에코프로\":\"086520\",\"에코프로에이치엔\":\"383310\" }\n",
        "data=pd.DataFrame()\n",
        "\n",
        "# 주식 for문으로 호출\n",
        "for i in stocks:\n",
        "    code = stocks[i]\n",
        "    df = stock.get_market_ohlcv_by_date(\"20220322\",\"20230322\",code)#날짜 기간 설정\n",
        "    data[i]=df[\"종가\"]   \n",
        "\n",
        "data.to_csv(\"주가비교.csv\") \n",
        "\n",
        "   \n",
        "plt.figure(figsize=(15,10)) # 그래프 사이즈\n",
        "plt.xticks(rotation=45)\n",
        "plt.plot(data[\"에코프로비엠\"], label=\"에코프로비엠\", color='#CD5C5C')\n",
        "plt.plot(data[\"에코프로\"], label=\"에코프로\")\n",
        "plt.plot(data[\"에코프로에이치엔\"], label=\"에코프로에이치엔\")\n",
        "plt.xlabel(\"기간\", color= \"green\" , loc = \"right\")\n",
        "plt.ylabel(\"단위 : 원\", color = \"red\", loc = \"top\")\n",
        "plt.legend()\n",
        "plt.grid(axis=\"y\", linestyle='--', color='purple')\n",
        "plt.savefig(\"주가비교.png\" , dpi = 100)"
      ],
      "metadata": {
        "id": "DfKSkZEWZ-4S"
      },
      "execution_count": null,
      "outputs": []
    },
    {
      "cell_type": "markdown",
      "source": [
        "한번에 나타내지말고 sublot으로 나타내보자."
      ],
      "metadata": {
        "id": "Zr8PWK2tcjWV"
      }
    },
    {
      "cell_type": "code",
      "source": [
        "import pandas as pd\n",
        "import matplotlib.pyplot as plt\n",
        "import matplotlib\n",
        "import matplotlib.font_manager as fm # fm 모듈을 import\n",
        "# 나눔글꼴 Regular으로 폰트 지정\n",
        "font_path = '/usr/share/fonts/truetype/nanum/NanumGothic.ttf'\n",
        "font_prop = fm.FontProperties(fname=font_path, size=20)\n",
        "# 폰트 설정\n",
        "plt.rc('font', family='NanumGothic')\n",
        "matplotlib.rcParams['axes.unicode_minus'] = False # 마이너스 기호(-)가 깨지는 현상 방지\n",
        "\n",
        "df = pd.read_csv(\"주가비교.csv\")\n",
        "df.set_index('날짜',inplace=True)\n",
        "fig,ax = plt.subplots(3,1,sharex=True)\n",
        "df.plot(y= \"에코프로비엠\", ax=ax[0])\n",
        "df.plot(y= \"에코프로\", ax=ax[1])\n",
        "df.plot(y= \"에코프로에이치엔\",ax=ax[2])"
      ],
      "metadata": {
        "id": "IGKgQVOXaUrU"
      },
      "execution_count": null,
      "outputs": []
    },
    {
      "cell_type": "markdown",
      "source": [
        "## 3) keras를 이용한 금융 머신러닝 개발"
      ],
      "metadata": {
        "id": "ONt2xHOUy0uA"
      }
    },
    {
      "cell_type": "markdown",
      "source": [
        "이 챕터에서는 tensorflow.keras를 이용하여 금융 시계열 모형을 직접 LSTM, CNN을 이용해 구현해본다."
      ],
      "metadata": {
        "id": "AnhZEgmTy6-z"
      }
    },
    {
      "cell_type": "markdown",
      "source": [
        "### 3-1) LSTM을 이용한 금융머신러닝"
      ],
      "metadata": {
        "id": "HPhtydlQJyHL"
      }
    },
    {
      "cell_type": "markdown",
      "source": [
        "이 챕터에서는 LSTM을 이용한 간단한 머신러닝에 대해 알아보자."
      ],
      "metadata": {
        "id": "ct5vIwmWJvjC"
      }
    },
    {
      "cell_type": "markdown",
      "source": [
        "2번째 챕터에서 배운 지식을 이용해 데이터를 불러오자"
      ],
      "metadata": {
        "id": "iHJP6MfizHq1"
      }
    },
    {
      "cell_type": "code",
      "source": [
        "!pip install pykrx"
      ],
      "metadata": {
        "id": "eCItr7faGBlJ"
      },
      "execution_count": null,
      "outputs": []
    },
    {
      "cell_type": "code",
      "source": [
        "import pandas as pd\n",
        "import matplotlib.pyplot as plt\n",
        "from pykrx import stock\n",
        "\n",
        "df = stock.get_market_ohlcv(\"20230310\", \"20230322\", \"005930\")\n",
        "df.to_excel(\"삼성전자.xlsx\")\n",
        "df.to_csv(\"삼성전자.csv\")\n",
        "df"
      ],
      "metadata": {
        "id": "RFYF3x0R2GVq"
      },
      "execution_count": null,
      "outputs": []
    },
    {
      "cell_type": "markdown",
      "source": [
        "#### 3-1-1) 데이터 불러오기"
      ],
      "metadata": {
        "id": "GtW_NrUw3vG_"
      }
    },
    {
      "cell_type": "code",
      "source": [
        "from sklearn.preprocessing import MinMaxScaler\n",
        "import pandas as pd\n",
        "import numpy as np\n",
        "\n",
        "df = stock.get_market_ohlcv(\"20100101\", \"20230325\", \"005930\")\n",
        "df.to_excel(\"005930.xlsx\")\n",
        "df.to_csv(\"005930.csv\")\n",
        "\n",
        "stocks = pd.read_csv('005930.csv')\n",
        "stocks"
      ],
      "metadata": {
        "id": "mnJvcKEazPID"
      },
      "execution_count": null,
      "outputs": []
    },
    {
      "cell_type": "markdown",
      "source": [
        "#### 3-1-2) 데이터 전처리 및 시각화"
      ],
      "metadata": {
        "id": "etcnkr6VFij8"
      }
    },
    {
      "cell_type": "code",
      "source": [
        "stocks['날짜'] = pd.to_datetime(stocks['날짜'], format='%Y-%m-%d')\n",
        "# stocks['날짜'] = pd.to_datetime(stocks['날짜'], format='%Y-%m-%d')\n",
        "stocks['연도'] = stocks['날짜'].dt.year"
      ],
      "metadata": {
        "id": "CCak_3BPFmQi"
      },
      "execution_count": null,
      "outputs": []
    },
    {
      "cell_type": "markdown",
      "source": [
        "날짜를 2000년 이후로 재분류한다."
      ],
      "metadata": {
        "id": "hgjXwcooGfDB"
      }
    },
    {
      "cell_type": "code",
      "source": [
        "df = stocks.loc[stocks['날짜']>=\"2010\"]"
      ],
      "metadata": {
        "id": "vyS_R9JVGhqg"
      },
      "execution_count": null,
      "outputs": []
    },
    {
      "cell_type": "code",
      "source": [
        "scaler = MinMaxScaler()\n",
        "scale_cols = ['시가', '고가', '저가', '종가', '거래량']\n",
        "df_scaled = scaler.fit_transform(df[scale_cols])\n",
        "\n",
        "df_scaled = pd.DataFrame(df_scaled)\n",
        "df_scaled.columns = scale_cols\n",
        "\n",
        "print(df_scaled)\n",
        "print(df)"
      ],
      "metadata": {
        "id": "swU-C6CKFsam"
      },
      "execution_count": null,
      "outputs": []
    },
    {
      "cell_type": "markdown",
      "source": [
        "이때의 데이터를 시각화해본다."
      ],
      "metadata": {
        "id": "RY-raqMJGsVh"
      }
    },
    {
      "cell_type": "code",
      "source": [
        "import matplotlib.pyplot as plt\n",
        "import seaborn as sns\n",
        "\n",
        "plt.figure(figsize=(16,9))\n",
        "sns.lineplot(y=df['거래량'], x=df['날짜'])\n",
        "plt.xlabel('time')\n",
        "plt.ylabel('price')"
      ],
      "metadata": {
        "id": "o6f2Y5k5Gvw0"
      },
      "execution_count": null,
      "outputs": []
    },
    {
      "cell_type": "markdown",
      "source": [
        "거래량이 2018년 이후로 급증했다. 다음은 주식 가격을 기준으로 보자."
      ],
      "metadata": {
        "id": "TVtEg__YHMQH"
      }
    },
    {
      "cell_type": "code",
      "source": [
        "plt.figure(figsize=(16,9))\n",
        "sns.lineplot(y=df['종가'], x=df['날짜'])\n",
        "plt.xlabel('time')\n",
        "plt.ylabel('price')"
      ],
      "metadata": {
        "id": "I-5EgLELHUJR"
      },
      "execution_count": null,
      "outputs": []
    },
    {
      "cell_type": "markdown",
      "source": [
        "####3-1-3) 데이터 정규화"
      ],
      "metadata": {
        "id": "QPFmv5hvHsXo"
      }
    },
    {
      "cell_type": "markdown",
      "source": [
        "먼저 데이터 정규화를 진행한다. 머신러닝에서 MinMaxScaler를 이용하여 정규화를 진행하면 0,1 사이의 값을 가지게 해주어 나중에 데이터 처리를 쉽게해준다."
      ],
      "metadata": {
        "id": "GXoJejbJH6Ay"
      }
    },
    {
      "cell_type": "code",
      "source": [
        "from sklearn.preprocessing import MinMaxScaler\n",
        "\n",
        "df.sort_index(ascending=False).reset_index(drop=True)\n",
        "\n",
        "scaler = MinMaxScaler()\n",
        "scale_cols = ['시가', '고가', '저가', '종가', '거래량']\n",
        "df_scaled = scaler.fit_transform(df[scale_cols])\n",
        "df_scaled = pd.DataFrame(df_scaled)\n",
        "df_scaled.columns = scale_cols\n",
        "\n",
        "df_scaled"
      ],
      "metadata": {
        "id": "KnmRfK1eH5cM"
      },
      "execution_count": null,
      "outputs": []
    },
    {
      "cell_type": "markdown",
      "source": [
        "#### 3-1-4)시계열 데이터의 데이터 셋 분리"
      ],
      "metadata": {
        "id": "SOKuPIQmIOwG"
      }
    },
    {
      "cell_type": "markdown",
      "source": [
        "시계열 데이터의 데이터셋을 window_size라고 정의한다. window_size는 과거 주가 데이터에 기반하여 다음날 종가를 예측하는 것을 정하는 parmeter다.\n",
        "\n",
        "과거 20일 기반으로 다음 날 데이터를 예측한다면, window_size는 20이 되는 것이다."
      ],
      "metadata": {
        "id": "jEimH5CE4djZ"
      }
    },
    {
      "cell_type": "code",
      "source": [
        "# 테스트셋 생성\n",
        "TEST_SIZE = 200\n",
        "window_size = 20\n",
        "\n",
        "train = df_scaled[:-TEST_SIZE]\n",
        "test = df_scaled[-TEST_SIZE:]"
      ],
      "metadata": {
        "id": "Flqmv0aU39uu"
      },
      "execution_count": null,
      "outputs": []
    },
    {
      "cell_type": "markdown",
      "source": [
        "make_dataset 함수를 정의한다.\n",
        "아직 깊게 공부하지않았지만, np.array()를 iloc 함수 앞에 묶어주지 않으면 데이터 셋 분리 단계에서 오류가 발생하거나 LSTM을 이용한 머신러닝이 힘들어졌다."
      ],
      "metadata": {
        "id": "kksg9KIHIqji"
      }
    },
    {
      "cell_type": "code",
      "source": [
        "def make_dataset(data, label, window_size=20):\n",
        "    feature_list = []\n",
        "    label_list = []\n",
        "    for i in range(len(data) - window_size):\n",
        "        feature_list.append(np.array(data.iloc[i:i+window_size]))\n",
        "        label_list.append(np.array(label.iloc[i+window_size]))\n",
        "    return np.array(feature_list), np.array(label_list)"
      ],
      "metadata": {
        "id": "L6O2GUqEVhkV"
      },
      "execution_count": null,
      "outputs": []
    },
    {
      "cell_type": "code",
      "source": [
        "from sklearn.model_selection import train_test_split\n",
        "#feature,label 정의\n",
        "feature_cols = ['시가', '고가', '저가', '거래량']\n",
        "label_cols = ['종가']\n",
        "\n",
        "train_feature = train[feature_cols]\n",
        "train_label = train[label_cols]\n",
        "\n",
        "#train data set\n",
        "train_feature,train_label = make_dataset(train_feature, train_label, 20)\n",
        "\n",
        "x_train, x_valid, y_train, y_valid = train_test_split(train_feature, train_label, test_size=0.2)\n",
        "x_train.shape, x_valid.shape"
      ],
      "metadata": {
        "id": "UAHnQKevViMS"
      },
      "execution_count": null,
      "outputs": []
    },
    {
      "cell_type": "code",
      "source": [
        "# test dataset (실제 예측해 볼 데이터)\n",
        "test_feature = test[feature_cols]\n",
        "test_label = test[label_cols]\n",
        "\n",
        "test_feature.shape, test_label.shape"
      ],
      "metadata": {
        "id": "FrLsEYjL5MB7"
      },
      "execution_count": null,
      "outputs": []
    },
    {
      "cell_type": "code",
      "source": [
        "test_feature, test_label = make_dataset(test_feature, test_label, 20)\n",
        "test_feature.shape, test_label.shape"
      ],
      "metadata": {
        "id": "Tc01XjIZMc90"
      },
      "execution_count": null,
      "outputs": []
    },
    {
      "cell_type": "markdown",
      "source": [
        "위의 코드에서 나는 test_label.shape가 3차원이 나와 계속 오류가 발생했다. 이유를 찾기위해.."
      ],
      "metadata": {
        "id": "A9EBIRcEMOa7"
      }
    },
    {
      "cell_type": "markdown",
      "source": [
        "#### 3-1-5) keras 모형을 생성한 학습"
      ],
      "metadata": {
        "id": "g236mWizLqvs"
      }
    },
    {
      "cell_type": "markdown",
      "source": [
        "keras를 활용해 간단한 LSTM 모델을 생성한다."
      ],
      "metadata": {
        "id": "gRiCqSav5TvT"
      }
    },
    {
      "cell_type": "code",
      "source": [
        "from keras.models import Sequential\n",
        "from keras.layers import Dense, Activation, BatchNormalization\n",
        "from keras.callbacks import EarlyStopping, ModelCheckpoint\n",
        "from keras.layers import LSTM\n",
        "\n",
        "model = Sequential()\n",
        "model.add(LSTM(16,\n",
        "               input_shape=(train_feature.shape[1], train_feature.shape[2]),\n",
        "               activation='relu',\n",
        "               return_sequences=False)\n",
        "        )\n",
        "model.add(Dense(1))"
      ],
      "metadata": {
        "id": "IiTEGnyzzziT"
      },
      "execution_count": null,
      "outputs": []
    },
    {
      "cell_type": "markdown",
      "source": [
        "모델을 학습시킨다."
      ],
      "metadata": {
        "id": "3fcHBwMl0aLT"
      }
    },
    {
      "cell_type": "code",
      "source": [
        "import os\n",
        "\n",
        "model.compile(loss='mean_squared_error', optimizer='adam')\n",
        "early_stop = EarlyStopping(monitor='val_loss', patience=5)\n",
        "\n",
        "model_path='model'\n",
        "filename = os.path.join(model_path, 'tmp_checkpoint.h5')\n",
        "checkpoint = ModelCheckpoint(filename, monitor='val_loss',verbose=1,\n",
        "                             save_best_only=True, mode='auto')\n",
        "\n",
        "history = model.fit(x_train,y_train,\n",
        "                    epochs=200,\n",
        "                    batch_size=16,\n",
        "                    validation_data=(x_valid,y_valid),\n",
        "                    callbacks=[early_stop, checkpoint])"
      ],
      "metadata": {
        "id": "IL9qXCs40bbg"
      },
      "execution_count": null,
      "outputs": []
    },
    {
      "cell_type": "markdown",
      "source": [
        "#### 3-1-6) 주가예측과 확인"
      ],
      "metadata": {
        "id": "HmlRMSrQLwvP"
      }
    },
    {
      "cell_type": "code",
      "source": [
        "model.load_weights(filename)\n",
        "pred = model.predict(test_feature)\n",
        "\n",
        "pred.shape"
      ],
      "metadata": {
        "id": "df2tyMfl9BGA"
      },
      "execution_count": null,
      "outputs": []
    },
    {
      "cell_type": "markdown",
      "source": [
        "이제 plt를 이용해 그려보자."
      ],
      "metadata": {
        "id": "aWR71JPBL8F-"
      }
    },
    {
      "cell_type": "code",
      "source": [
        "plt.figure(figsize=(12,9))\n",
        "plt.plot(test_label, label = 'actual price')\n",
        "plt.plot(pred, label = 'prediction price')\n",
        "\n",
        "plt.xlabel('date')\n",
        "plt.ylabel('price by high')\n",
        "plt.legend()\n",
        "plt.show()"
      ],
      "metadata": {
        "id": "koHNO8E1L_VQ"
      },
      "execution_count": null,
      "outputs": []
    },
    {
      "cell_type": "markdown",
      "source": [
        "이렇게 간단한 모델을 구성해보았다.\n",
        "코스피, 코스닥에 상장된 종목이면 위에서 종목코드만 바꾸면되니 모두 해보도록하자.\n",
        "지금은 삼성전자라 005930 이고, 다른 주식을 하려면 코드만 바꿔주면 된다.\n",
        "\n",
        "하지만 이 모델은 매우 단순하고 과적합에 대한 검증도 이루어지지않았으므로 재미로만 관찰하도록 하자."
      ],
      "metadata": {
        "id": "iDrjYV1AScdW"
      }
    },
    {
      "cell_type": "markdown",
      "source": [
        "### 3-2) LSTM,CNN을 이용한 금융 머신러닝\n",
        "(Yahoo Finance 데이터를 활용)"
      ],
      "metadata": {
        "id": "cjiDjzAHVe8v"
      }
    },
    {
      "cell_type": "markdown",
      "source": [
        "pykrx를 계속 써왔으니 이제 해외주식 데이터를 이용하기 위해 yahoo finance library를 이용하자. 내용은 아래의 링크에서 참고했다. 여기서는 1등 주식인 AAPL(애플)을 이용하자.\n",
        "\n",
        "[LSTMs or CNNs for predicting Stock Prices?](https://medium.com/hands-on-data-science/lstms-or-cnns-for-predicting-stock-prices-2974c0c8c4ef)"
      ],
      "metadata": {
        "id": "mNfhjM3nVomQ"
      }
    },
    {
      "cell_type": "markdown",
      "source": [
        "#### 3-2-1)데이터 준비"
      ],
      "metadata": {
        "id": "KdmyLF3cV2aK"
      }
    },
    {
      "cell_type": "code",
      "source": [
        "!pip install yahoofinance"
      ],
      "metadata": {
        "id": "jeS3hbCIWHt1"
      },
      "execution_count": null,
      "outputs": []
    },
    {
      "cell_type": "code",
      "source": [
        "import yfinance\n",
        "import numpy as np\n",
        "df = yfinance.download('AAPL','2000-1-1','2020-1-1')\n",
        "df = df.drop(['Volume'],1).drop(['Adj Close'],1)"
      ],
      "metadata": {
        "id": "GsYDuJMcWPXD"
      },
      "execution_count": null,
      "outputs": []
    },
    {
      "cell_type": "markdown",
      "source": [
        "데이터를 추출한 값에 거래량과 종가 데이터를 제거하자.\n",
        "\n",
        "그리고 함수를 정의한다. 모든 열의 이름을 숫자로 바꾼다."
      ],
      "metadata": {
        "id": "9we1DKEOWURb"
      }
    },
    {
      "cell_type": "code",
      "source": [
        "def normalize_data(dataset):\n",
        "        cols = dataset.columns.tolist()\n",
        "        col_name = [0]*len(cols)\n",
        "        for i in range(len(cols)):\n",
        "            col_name[i] = i\n",
        "        dataset.columns = col_name\n",
        "        dtypes = dataset.dtypes.tolist()\n",
        "        minmax = list()\n",
        "        for column in dataset:\n",
        "            dataset = dataset.astype({column: 'float32'})\n",
        "        for i in range(len(cols)):\n",
        "            col_values = dataset[col_name[i]]\n",
        "            value_min = min(col_values)\n",
        "            value_max = max(col_values)\n",
        "            minmax.append([value_min, value_max])\n",
        "        for column in dataset:\n",
        "            values = dataset[column].values\n",
        "            for i in range(len(values)):\n",
        "                values[i] = (values[i] - minmax[column][0]) / (minmax[column][1] - minmax[column][0])\n",
        "            dataset[column] = values\n",
        "        dataset[column] = values\n",
        "        return dataset,minmax\n",
        "    \n",
        "dataset,minmax = normalize_data(df)\n",
        "print(df.values)\n",
        "values = dataset.values"
      ],
      "metadata": {
        "id": "-Ogoeh6VWa17"
      },
      "execution_count": null,
      "outputs": []
    },
    {
      "cell_type": "markdown",
      "source": [
        "Sequence를 data set으로 변화 시킨다.\n",
        "rel_test_len은 10%를 validation data로 이용함을 의미한다."
      ],
      "metadata": {
        "id": "v2_1v-ydWbmM"
      }
    },
    {
      "cell_type": "code",
      "source": [
        "def split_sequences(sequence, n_steps):\n",
        "    X, y = list(), list()\n",
        "    for i in range(len(sequence)):\n",
        "        end_ix = i + n_steps\n",
        "        if end_ix > len(sequence)-1:\n",
        "            break\n",
        "        seq_x, seq_y = sequence[i:end_ix], sequence[end_ix]\n",
        "        X.append(seq_x)\n",
        "        y.append(seq_y)\n",
        "    return np.array(X), np.array(y)\n",
        "def data_setup(n_steps, n_seq,sequence):\n",
        "    X, y = split_sequences(sequence, n_steps)\n",
        "    n_features = X.shape[2]\n",
        "    X = X.reshape((len(X),n_steps, n_features))\n",
        "    new_y = []\n",
        "    for term in y:\n",
        "        new_term = term[-1]\n",
        "        new_y.append(new_term)\n",
        "    return X, np.array(new_y), n_features\n",
        "n_steps = 10\n",
        "n_seq = 10000\n",
        "rel_test_len = 0.1\n",
        "X,y,n_features = data_setup(n_steps,n_seq,values)\n",
        "X = X[:-1]\n",
        "y = y[1:]\n",
        "X_test,y_test = X[:int(len(X)*rel_test_len)],y[:int(len(X)*rel_test_len)]\n",
        "X_train,y_train = X[int(len(X)*rel_test_len):],y[int(len(X)*rel_test_len):]\n",
        "X.shape"
      ],
      "metadata": {
        "id": "wkK3Ug9aWm4N"
      },
      "execution_count": null,
      "outputs": []
    },
    {
      "cell_type": "markdown",
      "source": [
        "#### 3-2-2) LSTM. CNN 이용"
      ],
      "metadata": {
        "id": "jGO_sHnjW1pF"
      }
    },
    {
      "cell_type": "markdown",
      "source": [
        "######3-2-2-1) LSTM 이용"
      ],
      "metadata": {
        "id": "vjGjkwP9W7k0"
      }
    },
    {
      "cell_type": "markdown",
      "source": [
        "LSTM을 이용한다. 최종 layer를 sigmoid로 쓴게 특징이다."
      ],
      "metadata": {
        "id": "IwR3Rg-kXAYE"
      }
    },
    {
      "cell_type": "code",
      "source": [
        "from keras.models import Sequential\n",
        "from keras.layers import Dense\n",
        "from keras.layers import Flatten\n",
        "from keras.layers import Dropout\n",
        "from keras.layers import LSTM\n",
        "model = Sequential()\n",
        "model.add(LSTM(64, activation=None, input_shape=(10,4), return_sequences = True))\n",
        "model.add(LSTM(32, activation=None, return_sequences = True))\n",
        "model.add(Flatten())\n",
        "model.add(Dense(100, activation=None))\n",
        "model.add(Dense(1, activation='sigmoid'))\n",
        "model.compile(loss='mse', optimizer='adam')"
      ],
      "metadata": {
        "id": "OPYXFi1_XC7h"
      },
      "execution_count": null,
      "outputs": []
    },
    {
      "cell_type": "markdown",
      "source": [
        "다음은 train network를 이용한다..?"
      ],
      "metadata": {
        "id": "67JjHQm3XXUI"
      }
    },
    {
      "cell_type": "code",
      "source": [
        "import os\n",
        "from keras import callbacks\n",
        "epochs = 5000\n",
        "verbosity = 2\n",
        "dirx = '/content' # Keras 모델 아키텍처와 가중치 파일이 있는 디렉토리\n",
        "os.chdir(dirx) \n",
        "h5 = 'network.h5'\n",
        "checkpoint = callbacks.ModelCheckpoint(h5,\n",
        "                                       monitor='val_loss',\n",
        "                                       verbose=0,\n",
        "                                       save_best_only=True,\n",
        "                                       save_weights_only=True,\n",
        "                                       mode='auto',\n",
        "                                       period=1)\n",
        "callback = [checkpoint]\n",
        "json = 'network.json'\n",
        "model_json = model.to_json()\n",
        "with open(json, \"w\") as json_file:\n",
        "    json_file.write(model_json)\n",
        "history = model.fit(X_train,\n",
        "                    y_train,\n",
        "                    epochs=epochs,\n",
        "                    batch_size=len(X_train) // 4,\n",
        "                    validation_data = (X_test,y_test),\n",
        "                    verbose=verbosity,\n",
        "                    callbacks=callback)"
      ],
      "metadata": {
        "id": "bpV9ru-uXZXS"
      },
      "execution_count": null,
      "outputs": []
    },
    {
      "cell_type": "code",
      "source": [
        "from keras.models import load_model, model_from_json\n",
        "import json\n",
        "\n",
        "def load_keras_model(optimizer):\n",
        "    dirx = '/content'\n",
        "    os.chdir(dirx)\n",
        "    json_file = open('network.json', 'r')\n",
        "    loaded_model_json = json_file.read()\n",
        "    json_file.close()\n",
        "    model = model_from_json(loaded_model_json)\n",
        "    model.compile(optimizer=optimizer, loss='mse')\n",
        "    model.load_weights('network.h5')\n",
        "    return model\n",
        "model = load_keras_model('adam')"
      ],
      "metadata": {
        "id": "ytRz1ETaXcXZ"
      },
      "execution_count": null,
      "outputs": []
    },
    {
      "cell_type": "markdown",
      "source": [
        "다음 모델을 평가한다."
      ],
      "metadata": {
        "id": "bDvzY6OSXdtW"
      }
    },
    {
      "cell_type": "code",
      "source": [
        "model.evaluate(X_test,y_test)"
      ],
      "metadata": {
        "id": "E0DkHH4kXfIu"
      },
      "execution_count": null,
      "outputs": []
    },
    {
      "cell_type": "markdown",
      "source": [
        "이후 matplotlib를 이용해 시각화한다."
      ],
      "metadata": {
        "id": "Wv_2xjjJXgwV"
      }
    },
    {
      "cell_type": "code",
      "source": [
        "from matplotlib import pyplot as plt\n",
        "pred_test = model.predict(X_test)\n",
        "plt.plot(pred_test,'r')\n",
        "plt.plot(y_test,'g')"
      ],
      "metadata": {
        "id": "OK37OyWkXjpV"
      },
      "execution_count": null,
      "outputs": []
    },
    {
      "cell_type": "markdown",
      "source": [
        "###### 3-2-2-2) CNN 이용\n"
      ],
      "metadata": {
        "id": "XmQHa7cRjfUo"
      }
    },
    {
      "cell_type": "markdown",
      "source": [
        "4-2-1을 시행한 후에 아래의 코드를 실행한다."
      ],
      "metadata": {
        "id": "Kma11DkfjmzF"
      }
    },
    {
      "cell_type": "code",
      "source": [
        "from keras.models import Sequential\n",
        "from keras.layers import Dense\n",
        "from keras.layers import Flatten\n",
        "from keras.layers import Dropout\n",
        "from keras.layers.convolutional import Conv1D\n",
        "from keras.layers.convolutional import MaxPooling1D\n",
        "model = Sequential()\n",
        "model.add(Conv1D(filters=128, kernel_size=3, activation='relu', input_shape=(10,4)))\n",
        "model.add(Conv1D(filters=64, kernel_size=3, activation='relu'))\n",
        "model.add(MaxPooling1D(pool_size=2))\n",
        "model.add(Flatten())\n",
        "model.add(Dense(100, activation='relu'))\n",
        "model.add(Dense(1, activation='sigmoid'))\n",
        "model.compile(loss='mse', optimizer='adam')"
      ],
      "metadata": {
        "id": "vFs1vf7Xjl5X"
      },
      "execution_count": null,
      "outputs": []
    },
    {
      "cell_type": "markdown",
      "source": [
        "다음 train network를 이용해 학습하고 검증하는 과정은 동일하다."
      ],
      "metadata": {
        "id": "nuLtSZy8jp9g"
      }
    },
    {
      "cell_type": "code",
      "source": [
        "import os\n",
        "from keras import callbacks\n",
        "epochs = 5000\n",
        "verbosity = 2\n",
        "dirx = '/content' # Keras 모델 아키텍처와 가중치 파일이 있는 디렉토리\n",
        "os.chdir(dirx) \n",
        "h5 = 'network.h5'\n",
        "checkpoint = callbacks.ModelCheckpoint(h5,\n",
        "                                       monitor='val_loss',\n",
        "                                       verbose=0,\n",
        "                                       save_best_only=True,\n",
        "                                       save_weights_only=True,\n",
        "                                       mode='auto',\n",
        "                                       period=1)\n",
        "callback = [checkpoint]\n",
        "json = 'network.json'\n",
        "model_json = model.to_json()\n",
        "with open(json, \"w\") as json_file:\n",
        "    json_file.write(model_json)\n",
        "history = model.fit(X_train,\n",
        "                    y_train,\n",
        "                    epochs=epochs,\n",
        "                    batch_size=len(X_train) // 4,\n",
        "                    validation_data = (X_test,y_test),\n",
        "                    verbose=verbosity,\n",
        "                    callbacks=callback)"
      ],
      "metadata": {
        "id": "buT0AMfdj7A7"
      },
      "execution_count": null,
      "outputs": []
    },
    {
      "cell_type": "markdown",
      "source": [
        "우리가 만든 model을 가장 성능이 좋았던 모델 가중치를 network.h5 파일에 저장했고 구조를 network.json에 저장했다."
      ],
      "metadata": {
        "id": "ju9rqU3ukF6z"
      }
    },
    {
      "cell_type": "code",
      "source": [
        "from keras.models import load_model, model_from_json\n",
        "import json\n",
        "\n",
        "def load_keras_model(optimizer):\n",
        "    dirx = '/content'\n",
        "    os.chdir(dirx)\n",
        "    json_file = open('network.json', 'r')\n",
        "    loaded_model_json = json_file.read()\n",
        "    json_file.close()\n",
        "    model = model_from_json(loaded_model_json)\n",
        "    model.compile(optimizer=optimizer, loss='mse')\n",
        "    model.load_weights('network.h5')\n",
        "    return model\n",
        "model = load_keras_model('adam')"
      ],
      "metadata": {
        "id": "A_KvAEY5j7lZ"
      },
      "execution_count": null,
      "outputs": []
    },
    {
      "cell_type": "markdown",
      "source": [
        "모델을 평가해보고 plot으로 시각화한다."
      ],
      "metadata": {
        "id": "CfHEAIz4qUvi"
      }
    },
    {
      "cell_type": "code",
      "source": [
        "model.evaluate(X_test,y_test)"
      ],
      "metadata": {
        "id": "wRfmi90hkCjL"
      },
      "execution_count": null,
      "outputs": []
    },
    {
      "cell_type": "code",
      "source": [
        "from matplotlib import pyplot as plt\n",
        "pred_test = model.predict(X_test)\n",
        "plt.plot(pred_test,'r')\n",
        "plt.plot(y_test,'g')"
      ],
      "metadata": {
        "id": "F4m06cRHkD0G"
      },
      "execution_count": null,
      "outputs": []
    }
  ]
}